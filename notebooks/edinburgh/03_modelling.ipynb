{
 "cells": [
  {
   "cell_type": "markdown",
   "id": "52441d2d",
   "metadata": {},
   "source": [
    "# Edinburgh Modellig"
   ]
  },
  {
   "cell_type": "code",
   "execution_count": 1,
   "id": "29bd70cc",
   "metadata": {},
   "outputs": [],
   "source": [
    "import pandas as pd\n",
    "import geopandas as gpd\n",
    "import numpy as np\n",
    "from sklearn.linear_model import LinearRegression\n",
    "from sklearn.model_selection import train_test_split, RandomizedSearchCV, GridSearchCV\n",
    "from sklearn.metrics import r2_score, mean_absolute_error, mean_squared_error\n",
    "from sklearn.ensemble import RandomForestRegressor\n",
    "import seaborn as sns\n",
    "from scipy.stats import gaussian_kde\n",
    "import contextily as ctx\n",
    "import matplotlib.pyplot as plt\n",
    "import matplotlib as mpl\n",
    "from matplotlib.colors import ListedColormap\n",
    "import matplotlib.font_manager as fm\n",
    "from matplotlib.patches import Patch\n",
    "%config InlineBackend.figure_format = 'retina'\n",
    "from mgwr.gwr import GWR\n",
    "from mgwr.sel_bw import Sel_BW\n",
    "import matplotlib.font_manager as fm\n",
    "import xgboost as xgb\n",
    "import shap\n",
    "from scipy.spatial import cKDTree\n",
    "\n",
    "# Load Cambria font\n",
    "cambria_path = \"/Library/Fonts/Microsoft/Cambria.ttf\"  # Adjust path if needed\n",
    "cambria_prop = fm.FontProperties(fname=cambria_path)\n",
    "\n",
    "# Load modelling functions\n",
    "import sys\n",
    "sys.path.append('../../scripts')  # go up one folder, into scripts/\n",
    "\n",
    "from modelling import (\n",
    "    prepare_data,\n",
    "    run_modelling_pipeline,\n",
    "    map_gwr_coefficients,\n",
    "    calculate_t_values,\n",
    "    categorise_significance,\n",
    "    plot_significance,\n",
    "    geographically_weighted_rf\n",
    ")"
   ]
  }
 ],
 "metadata": {
  "kernelspec": {
   "display_name": "geolytix",
   "language": "python",
   "name": "python3"
  },
  "language_info": {
   "codemirror_mode": {
    "name": "ipython",
    "version": 3
   },
   "file_extension": ".py",
   "mimetype": "text/x-python",
   "name": "python",
   "nbconvert_exporter": "python",
   "pygments_lexer": "ipython3",
   "version": "3.12.9"
  }
 },
 "nbformat": 4,
 "nbformat_minor": 5
}
