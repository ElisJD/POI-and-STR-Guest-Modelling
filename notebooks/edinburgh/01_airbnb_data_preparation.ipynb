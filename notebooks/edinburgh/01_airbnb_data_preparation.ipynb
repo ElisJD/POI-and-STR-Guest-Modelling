{
 "cells": [
  {
   "cell_type": "markdown",
   "id": "7ae0629d",
   "metadata": {},
   "source": [
    "# Edinburgh Airbnb Data Preparation"
   ]
  },
  {
   "cell_type": "code",
   "execution_count": null,
   "id": "43cdd495",
   "metadata": {},
   "outputs": [],
   "source": []
  }
 ],
 "metadata": {
  "kernelspec": {
   "display_name": "geolytix",
   "language": "python",
   "name": "python3"
  },
  "language_info": {
   "name": "python",
   "version": "3.12.9"
  }
 },
 "nbformat": 4,
 "nbformat_minor": 5
}
