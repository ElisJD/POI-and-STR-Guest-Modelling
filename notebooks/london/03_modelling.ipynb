{
 "cells": [
  {
   "cell_type": "markdown",
   "id": "e747ede3",
   "metadata": {},
   "source": [
    "# London Modelling"
   ]
  },
  {
   "cell_type": "code",
   "execution_count": 1,
   "id": "29bd70cc",
   "metadata": {},
   "outputs": [],
   "source": [
    "import pandas as pd\n",
    "import geopandas as gpd\n",
    "import numpy as np\n",
    "from sklearn.linear_model import LinearRegression\n",
    "from sklearn.model_selection import train_test_split, RandomizedSearchCV, GridSearchCV\n",
    "from sklearn.metrics import r2_score, mean_absolute_error, mean_squared_error\n",
    "from sklearn.ensemble import RandomForestRegressor\n",
    "import seaborn as sns\n",
    "from scipy.stats import gaussian_kde\n",
    "import contextily as ctx\n",
    "import matplotlib.pyplot as plt\n",
    "from matplotlib.colors import ListedColormap\n",
    "%config InlineBackend.figure_format = 'retina'\n",
    "from mgwr.gwr import GWR\n",
    "from mgwr.sel_bw import Sel_BW\n",
    "import matplotlib.font_manager as fm\n",
    "import xgboost as xgb\n",
    "import shap"
   ]
  },
  {
   "cell_type": "markdown",
   "id": "10a71890",
   "metadata": {},
   "source": [
    "## 1. Import Data"
   ]
  },
  {
   "cell_type": "code",
   "execution_count": 5,
   "id": "fe5591ac",
   "metadata": {},
   "outputs": [],
   "source": [
    "# Import data\n",
    "london_airbnb = gpd.read_file('../../data/london/airbnb_per_london_glx.gpkg')\n",
    "london_tourism_fs = gpd.read_file('../../data/london/london_glx_tourism_pois.gpkg')"
   ]
  },
  {
   "cell_type": "code",
   "execution_count": 6,
   "id": "9cbcf06a",
   "metadata": {},
   "outputs": [],
   "source": [
    "# Merge the two datasets on glx_id keeping only one geometry column\n",
    "london_airbnb_tourism_fs = london_tourism_fs.merge(london_airbnb, on='glx_id', how='left')\n",
    "\n",
    "# Drop geometry_x and rename geometry_y to geometry\n",
    "london_airbnb_tourism_fs.drop(columns=['geometry_x'], inplace=True)\n",
    "london_airbnb_tourism_fs.rename(columns={'geometry_y': 'geometry'}, inplace=True)"
   ]
  },
  {
   "cell_type": "markdown",
   "id": "2f2d863d",
   "metadata": {},
   "source": [
    "## 2. Data Exploration"
   ]
  }
 ],
 "metadata": {
  "kernelspec": {
   "display_name": "geolytix",
   "language": "python",
   "name": "python3"
  },
  "language_info": {
   "codemirror_mode": {
    "name": "ipython",
    "version": 3
   },
   "file_extension": ".py",
   "mimetype": "text/x-python",
   "name": "python",
   "nbconvert_exporter": "python",
   "pygments_lexer": "ipython3",
   "version": "3.12.9"
  }
 },
 "nbformat": 4,
 "nbformat_minor": 5
}
